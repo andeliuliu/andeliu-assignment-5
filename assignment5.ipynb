{
  "cells": [
    {
      "cell_type": "code",
      "execution_count": 7,
      "metadata": {
        "id": "etLL_jivcWrX",
        "colab": {
          "base_uri": "https://localhost:8080/"
        },
        "outputId": "aede0584-cce0-421a-f20e-300d46fe9242"
      },
      "outputs": [
        {
          "output_type": "stream",
          "name": "stdout",
          "text": [
            "Drive already mounted at /content/drive; to attempt to forcibly remount, call drive.mount(\"/content/drive\", force_remount=True).\n"
          ]
        }
      ],
      "source": [
        "import numpy as np\n",
        "import pandas as pd\n",
        "from sklearn.preprocessing import StandardScaler, OneHotEncoder\n",
        "from sklearn.model_selection import train_test_split\n",
        "from sklearn.model_selection import KFold\n",
        "from sklearn.metrics import roc_auc_score\n",
        "from google.colab import drive\n",
        "from google.colab import files\n",
        "drive.mount('/content/drive')\n"
      ]
    },
    {
      "cell_type": "code",
      "execution_count": 8,
      "metadata": {
        "id": "7XKUr8KJcWrY"
      },
      "outputs": [],
      "source": [
        "# Define the KNN class\n",
        "class KNN:\n",
        "    def __init__(self, k=3, distance_metric='euclidean'):\n",
        "        self.k = k\n",
        "        self.distance_metric = distance_metric\n",
        "\n",
        "    def fit(self, X, y):\n",
        "        self.X_train = X\n",
        "        self.y_train = y\n",
        "\n",
        "    def _euclidean_distance(self, X1, X2):\n",
        "        # Vectorized Euclidean distance computation\n",
        "        return np.sqrt(np.sum((X1 - X2) ** 2, axis=1))\n",
        "\n",
        "    def _manhattan_distance(self, X1, X2):\n",
        "        # Vectorized Manhattan distance computation\n",
        "        return np.sum(np.abs(X1 - X2), axis=1)\n",
        "\n",
        "    def _compute_distance(self, x1, x2):\n",
        "        if self.distance_metric == 'euclidean':\n",
        "            return self._euclidean_distance(x1, x2)\n",
        "        elif self.distance_metric == 'manhattan':\n",
        "            return self._manhattan_distance(x1, x2)\n",
        "        else:\n",
        "            raise ValueError(f\"Unknown distance metric: {self.distance_metric}\")\n",
        "\n",
        "    def predict(self, X):\n",
        "        predictions = []\n",
        "        for x in X:\n",
        "            # Compute distances between x and all X_train (vectorized)\n",
        "            distances = self._compute_distance(x, self.X_train)\n",
        "\n",
        "            # Sort by distance and select the top k\n",
        "            k_indices = np.argsort(distances)[:self.k]\n",
        "            k_nearest_labels = self.y_train[k_indices]\n",
        "\n",
        "            # Majority vote\n",
        "            most_common = np.bincount(k_nearest_labels).argmax()\n",
        "            predictions.append(most_common)\n",
        "\n",
        "        return np.array(predictions)\n",
        "\n",
        "    def predict_proba(self, X):\n",
        "        probabilities = []\n",
        "        for x in X:\n",
        "            distances = self._compute_distance(x, self.X_train)\n",
        "            k_indices = np.argsort(distances)[:self.k]\n",
        "            k_nearest_labels = self.y_train[k_indices]\n",
        "\n",
        "            # Calculate the probability of the majority class\n",
        "            proba = np.mean(k_nearest_labels)\n",
        "            probabilities.append(proba)\n",
        "\n",
        "        return np.array(probabilities)"
      ]
    },
    {
      "cell_type": "code",
      "execution_count": 9,
      "metadata": {
        "id": "kKOCvO4fcWrY"
      },
      "outputs": [],
      "source": [
        "# Define data preprocessing function\n",
        "def preprocess_data(train_path, test_path):\n",
        "    train_data = pd.read_csv(train_path)\n",
        "    test_data = pd.read_csv(test_path)\n",
        "\n",
        "    # Drop irrelevant columns (Customer ID, Surname)\n",
        "    train_data = train_data.drop(columns=['CustomerId', 'Surname'])\n",
        "    test_data = test_data.drop(columns=['CustomerId', 'Surname'])\n",
        "\n",
        "    # Identify categorical and numerical columns\n",
        "    categorical_cols = ['Geography', 'Gender']\n",
        "    numerical_cols = [col for col in train_data.columns if col not in categorical_cols + ['Exited']]\n",
        "\n",
        "    # Handle missing values separately for categorical and numerical columns\n",
        "    train_data[numerical_cols] = train_data[numerical_cols].fillna(train_data[numerical_cols].median())\n",
        "    test_data[numerical_cols] = test_data[numerical_cols].fillna(test_data[numerical_cols].median())\n",
        "\n",
        "    # Fill categorical columns with the most frequent (mode) value\n",
        "    train_data[categorical_cols] = train_data[categorical_cols].fillna(train_data[categorical_cols].mode().iloc[0])\n",
        "    test_data[categorical_cols] = test_data[categorical_cols].fillna(test_data[categorical_cols].mode().iloc[0])\n",
        "\n",
        "    # One-hot encode categorical variables\n",
        "    encoder = OneHotEncoder(drop='first', sparse_output=False)\n",
        "    train_encoded = encoder.fit_transform(train_data[categorical_cols])\n",
        "    test_encoded = encoder.transform(test_data[categorical_cols])\n",
        "\n",
        "    train_encoded_df = pd.DataFrame(train_encoded, columns=encoder.get_feature_names_out())\n",
        "    test_encoded_df = pd.DataFrame(test_encoded, columns=encoder.get_feature_names_out())\n",
        "\n",
        "    # Drop original categorical columns and concatenate the encoded ones\n",
        "    train_data = train_data.drop(columns=categorical_cols)\n",
        "    test_data = test_data.drop(columns=categorical_cols)\n",
        "\n",
        "    train_data = pd.concat([train_data, train_encoded_df], axis=1)\n",
        "    test_data = pd.concat([test_data, test_encoded_df], axis=1)\n",
        "\n",
        "    # Scale numerical features\n",
        "    scaler = StandardScaler()\n",
        "    feature_columns = train_data.drop(columns=['Exited']).columns\n",
        "    train_data[feature_columns] = scaler.fit_transform(train_data[feature_columns])\n",
        "    test_data[feature_columns] = scaler.transform(test_data[feature_columns])\n",
        "\n",
        "    # Prepare features and labels\n",
        "    X = train_data.drop(columns=['Exited']).values\n",
        "    y = train_data['Exited'].values\n",
        "    X_test = test_data.values\n",
        "\n",
        "    return X, y, X_test\n"
      ]
    },
    {
      "cell_type": "code",
      "execution_count": 10,
      "metadata": {
        "id": "86F6EAlgcWrY"
      },
      "outputs": [],
      "source": [
        "# Define cross-validation function\n",
        "def cross_validate(X, y, knn, n_splits=5):\n",
        "    kf = KFold(n_splits=n_splits, shuffle=True, random_state=42)\n",
        "    roc_auc_scores = []\n",
        "\n",
        "    for train_index, val_index in kf.split(X):\n",
        "        X_train, X_val = X[train_index], X[val_index]\n",
        "        y_train, y_val = y[train_index], y[val_index]\n",
        "\n",
        "        # Train the KNN model\n",
        "        knn.fit(X_train, y_train)\n",
        "\n",
        "        # Predict probabilities\n",
        "        y_val_pred_proba = knn.predict_proba(X_val)\n",
        "\n",
        "        # Calculate ROC AUC\n",
        "        roc_auc = roc_auc_score(y_val, y_val_pred_proba)\n",
        "        roc_auc_scores.append(roc_auc)\n",
        "\n",
        "    return np.mean(roc_auc_scores), roc_auc_scores"
      ]
    },
    {
      "cell_type": "code",
      "execution_count": 11,
      "metadata": {
        "colab": {
          "base_uri": "https://localhost:8080/",
          "height": 69
        },
        "id": "UbQFbc-wcWrZ",
        "outputId": "1d606bd1-b7d5-4d27-d19b-0323f06284d1"
      },
      "outputs": [
        {
          "output_type": "stream",
          "name": "stdout",
          "text": [
            "Cross-validation scores: [0.8554862461198053, 0.878138723231228, 0.8755474268182397, 0.8557049070092548, 0.8843730556729739]\n",
            "Mean ROC AUC: 0.8698500717703004\n"
          ]
        },
        {
          "output_type": "display_data",
          "data": {
            "text/plain": [
              "<IPython.core.display.Javascript object>"
            ],
            "application/javascript": [
              "\n",
              "    async function download(id, filename, size) {\n",
              "      if (!google.colab.kernel.accessAllowed) {\n",
              "        return;\n",
              "      }\n",
              "      const div = document.createElement('div');\n",
              "      const label = document.createElement('label');\n",
              "      label.textContent = `Downloading \"${filename}\": `;\n",
              "      div.appendChild(label);\n",
              "      const progress = document.createElement('progress');\n",
              "      progress.max = size;\n",
              "      div.appendChild(progress);\n",
              "      document.body.appendChild(div);\n",
              "\n",
              "      const buffers = [];\n",
              "      let downloaded = 0;\n",
              "\n",
              "      const channel = await google.colab.kernel.comms.open(id);\n",
              "      // Send a message to notify the kernel that we're ready.\n",
              "      channel.send({})\n",
              "\n",
              "      for await (const message of channel.messages) {\n",
              "        // Send a message to notify the kernel that we're ready.\n",
              "        channel.send({})\n",
              "        if (message.buffers) {\n",
              "          for (const buffer of message.buffers) {\n",
              "            buffers.push(buffer);\n",
              "            downloaded += buffer.byteLength;\n",
              "            progress.value = downloaded;\n",
              "          }\n",
              "        }\n",
              "      }\n",
              "      const blob = new Blob(buffers, {type: 'application/binary'});\n",
              "      const a = document.createElement('a');\n",
              "      a.href = window.URL.createObjectURL(blob);\n",
              "      a.download = filename;\n",
              "      div.appendChild(a);\n",
              "      a.click();\n",
              "      div.remove();\n",
              "    }\n",
              "  "
            ]
          },
          "metadata": {}
        },
        {
          "output_type": "display_data",
          "data": {
            "text/plain": [
              "<IPython.core.display.Javascript object>"
            ],
            "application/javascript": [
              "download(\"download_acea65c9-fa65-49f8-a2ac-629f6e07f146\", \"submissions.csv\", 100010)"
            ]
          },
          "metadata": {}
        },
        {
          "output_type": "stream",
          "name": "stdout",
          "text": [
            "Test predictions saved to 'submissions.csv'\n"
          ]
        }
      ],
      "source": [
        "# Load and preprocess data\n",
        "train_path = '/content/drive/MyDrive/train.csv'\n",
        "test_path = '/content/drive/MyDrive/test.csv'\n",
        "\n",
        "# Load and preprocess data\n",
        "X, y, X_test = preprocess_data(train_path, test_path)\n",
        "# Create and evaluate model\n",
        "knn = KNN(k=5, distance_metric='euclidean')\n",
        "\n",
        "# Perform cross-validation\n",
        "mean_roc_auc, cv_scores = cross_validate(X, y, knn)\n",
        "\n",
        "print(\"Cross-validation scores:\", cv_scores)\n",
        "print(\"Mean ROC AUC:\", mean_roc_auc)\n",
        "\n",
        "# Train on full dataset with optimal hyperparameters\n",
        "knn = KNN(k=5, distance_metric='euclidean')  # Best parameters\n",
        "knn.fit(X, y)\n",
        "\n",
        "# Make predictions on the test set\n",
        "test_predictions = knn.predict_proba(X_test)\n",
        "\n",
        "pd.DataFrame({'id': pd.read_csv(test_path)['id'], 'Exited': test_predictions}).to_csv('submissions.csv', index=False)\n",
        "files.download('submissions.csv')\n",
        "print(\"Test predictions saved to 'submissions.csv'\")\n",
        "\n",
        "\n"
      ]
    }
  ],
  "metadata": {
    "colab": {
      "provenance": []
    },
    "kernelspec": {
      "display_name": "cs506",
      "language": "python",
      "name": "python3"
    },
    "language_info": {
      "codemirror_mode": {
        "name": "ipython",
        "version": 3
      },
      "file_extension": ".py",
      "mimetype": "text/x-python",
      "name": "python",
      "nbconvert_exporter": "python",
      "pygments_lexer": "ipython3",
      "version": "3.10.15"
    }
  },
  "nbformat": 4,
  "nbformat_minor": 0
}